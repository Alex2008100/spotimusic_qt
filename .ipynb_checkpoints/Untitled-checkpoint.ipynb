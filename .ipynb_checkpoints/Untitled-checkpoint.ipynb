{
 "cells": [
  {
   "cell_type": "code",
   "execution_count": 1,
   "id": "1d254884",
   "metadata": {},
   "outputs": [],
   "source": [
    "from audiowrapper import playsound"
   ]
  },
  {
   "cell_type": "code",
   "execution_count": 2,
   "id": "7c001544",
   "metadata": {},
   "outputs": [],
   "source": [
    "sound = playsound()"
   ]
  },
  {
   "cell_type": "code",
   "execution_count": 3,
   "id": "5de0b5ee",
   "metadata": {},
   "outputs": [],
   "source": [
    "sound = playsound.instance()"
   ]
  },
  {
   "cell_type": "code",
   "execution_count": 4,
   "id": "dbb09c98",
   "metadata": {},
   "outputs": [],
   "source": [
    "sound.set_file('/home/alex/Downloads/file_example_WAV_10MG.wav')"
   ]
  },
  {
   "cell_type": "code",
   "execution_count": 5,
   "id": "ab9a03b6",
   "metadata": {},
   "outputs": [],
   "source": [
    "sound.play()"
   ]
  },
  {
   "cell_type": "code",
   "execution_count": 7,
   "id": "53e3aadf",
   "metadata": {},
   "outputs": [],
   "source": [
    "sound.pause()"
   ]
  },
  {
   "cell_type": "code",
   "execution_count": null,
   "id": "ef29fc72",
   "metadata": {},
   "outputs": [],
   "source": []
  }
 ],
 "metadata": {
  "kernelspec": {
   "display_name": "Python 3",
   "language": "python",
   "name": "python3"
  },
  "language_info": {
   "codemirror_mode": {
    "name": "ipython",
    "version": 3
   },
   "file_extension": ".py",
   "mimetype": "text/x-python",
   "name": "python",
   "nbconvert_exporter": "python",
   "pygments_lexer": "ipython3",
   "version": "3.8.8"
  }
 },
 "nbformat": 4,
 "nbformat_minor": 5
}
